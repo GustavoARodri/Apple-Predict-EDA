{
  "cells": [
    {
      "cell_type": "markdown",
      "metadata": {
        "id": "view-in-github",
        "colab_type": "text"
      },
      "source": [
        "<a href=\"https://colab.research.google.com/github/GustavoARodri/Apple-Predict-EDA/blob/main/predict_eda_pt_br.ipynb\" target=\"_parent\"><img src=\"https://colab.research.google.com/assets/colab-badge.svg\" alt=\"Open In Colab\"/></a>"
      ]
    },
    {
      "cell_type": "markdown",
      "id": "58396cd9",
      "metadata": {
        "papermill": {
          "duration": 0.008585,
          "end_time": "2024-03-13T16:43:01.445914",
          "exception": false,
          "start_time": "2024-03-13T16:43:01.437329",
          "status": "completed"
        },
        "tags": [],
        "id": "58396cd9"
      },
      "source": [
        "# **IMPORTAÇÃO DO DATAFRAME**"
      ]
    },
    {
      "cell_type": "code",
      "execution_count": null,
      "id": "b6613a42",
      "metadata": {
        "_cell_guid": "b1076dfc-b9ad-4769-8c92-a6c4dae69d19",
        "_uuid": "8f2839f25d086af736a60e9eeb907d3b93b6e0e5",
        "execution": {
          "iopub.execute_input": "2024-03-13T16:43:01.465314Z",
          "iopub.status.busy": "2024-03-13T16:43:01.464021Z",
          "iopub.status.idle": "2024-03-13T16:43:02.592700Z",
          "shell.execute_reply": "2024-03-13T16:43:02.591209Z"
        },
        "papermill": {
          "duration": 1.141294,
          "end_time": "2024-03-13T16:43:02.595728",
          "exception": false,
          "start_time": "2024-03-13T16:43:01.454434",
          "status": "completed"
        },
        "tags": [],
        "id": "b6613a42"
      },
      "outputs": [],
      "source": [
        "#Biblioteca de manipulação de dataframes e atribuição na variável\n",
        "import pandas as pd\n",
        "\n",
        "df = pd.read_csv(\"/content/apple_quality.csv\")"
      ]
    },
    {
      "cell_type": "code",
      "execution_count": null,
      "id": "11c8d00a",
      "metadata": {
        "execution": {
          "iopub.execute_input": "2024-03-13T16:43:02.614784Z",
          "iopub.status.busy": "2024-03-13T16:43:02.614295Z",
          "iopub.status.idle": "2024-03-13T16:43:02.642038Z",
          "shell.execute_reply": "2024-03-13T16:43:02.640812Z"
        },
        "papermill": {
          "duration": 0.040704,
          "end_time": "2024-03-13T16:43:02.644962",
          "exception": false,
          "start_time": "2024-03-13T16:43:02.604258",
          "status": "completed"
        },
        "tags": [],
        "colab": {
          "base_uri": "https://localhost:8080/",
          "height": 206
        },
        "id": "11c8d00a",
        "outputId": "814339ee-4247-4875-ddaa-0fb28c422a6f"
      },
      "outputs": [
        {
          "output_type": "execute_result",
          "data": {
            "text/plain": [
              "   A_id      Size    Weight  Sweetness  Crunchiness  Juiciness  Ripeness  \\\n",
              "0   0.0 -3.970049 -2.512336   5.346330    -1.012009   1.844900  0.329840   \n",
              "1   1.0 -1.195217 -2.839257   3.664059     1.588232   0.853286  0.867530   \n",
              "2   2.0 -0.292024 -1.351282  -1.738429    -0.342616   2.838636 -0.038033   \n",
              "3   3.0 -0.657196 -2.271627   1.324874    -0.097875   3.637970 -3.413761   \n",
              "4   4.0  1.364217 -1.296612  -0.384658    -0.553006   3.030874 -1.303849   \n",
              "\n",
              "        Acidity Quality  \n",
              "0  -0.491590483    good  \n",
              "1  -0.722809367    good  \n",
              "2   2.621636473     bad  \n",
              "3   0.790723217    good  \n",
              "4   0.501984036    good  "
            ],
            "text/html": [
              "\n",
              "  <div id=\"df-ade1f6a9-4435-463c-8d74-6553f2aef706\" class=\"colab-df-container\">\n",
              "    <div>\n",
              "<style scoped>\n",
              "    .dataframe tbody tr th:only-of-type {\n",
              "        vertical-align: middle;\n",
              "    }\n",
              "\n",
              "    .dataframe tbody tr th {\n",
              "        vertical-align: top;\n",
              "    }\n",
              "\n",
              "    .dataframe thead th {\n",
              "        text-align: right;\n",
              "    }\n",
              "</style>\n",
              "<table border=\"1\" class=\"dataframe\">\n",
              "  <thead>\n",
              "    <tr style=\"text-align: right;\">\n",
              "      <th></th>\n",
              "      <th>A_id</th>\n",
              "      <th>Size</th>\n",
              "      <th>Weight</th>\n",
              "      <th>Sweetness</th>\n",
              "      <th>Crunchiness</th>\n",
              "      <th>Juiciness</th>\n",
              "      <th>Ripeness</th>\n",
              "      <th>Acidity</th>\n",
              "      <th>Quality</th>\n",
              "    </tr>\n",
              "  </thead>\n",
              "  <tbody>\n",
              "    <tr>\n",
              "      <th>0</th>\n",
              "      <td>0.0</td>\n",
              "      <td>-3.970049</td>\n",
              "      <td>-2.512336</td>\n",
              "      <td>5.346330</td>\n",
              "      <td>-1.012009</td>\n",
              "      <td>1.844900</td>\n",
              "      <td>0.329840</td>\n",
              "      <td>-0.491590483</td>\n",
              "      <td>good</td>\n",
              "    </tr>\n",
              "    <tr>\n",
              "      <th>1</th>\n",
              "      <td>1.0</td>\n",
              "      <td>-1.195217</td>\n",
              "      <td>-2.839257</td>\n",
              "      <td>3.664059</td>\n",
              "      <td>1.588232</td>\n",
              "      <td>0.853286</td>\n",
              "      <td>0.867530</td>\n",
              "      <td>-0.722809367</td>\n",
              "      <td>good</td>\n",
              "    </tr>\n",
              "    <tr>\n",
              "      <th>2</th>\n",
              "      <td>2.0</td>\n",
              "      <td>-0.292024</td>\n",
              "      <td>-1.351282</td>\n",
              "      <td>-1.738429</td>\n",
              "      <td>-0.342616</td>\n",
              "      <td>2.838636</td>\n",
              "      <td>-0.038033</td>\n",
              "      <td>2.621636473</td>\n",
              "      <td>bad</td>\n",
              "    </tr>\n",
              "    <tr>\n",
              "      <th>3</th>\n",
              "      <td>3.0</td>\n",
              "      <td>-0.657196</td>\n",
              "      <td>-2.271627</td>\n",
              "      <td>1.324874</td>\n",
              "      <td>-0.097875</td>\n",
              "      <td>3.637970</td>\n",
              "      <td>-3.413761</td>\n",
              "      <td>0.790723217</td>\n",
              "      <td>good</td>\n",
              "    </tr>\n",
              "    <tr>\n",
              "      <th>4</th>\n",
              "      <td>4.0</td>\n",
              "      <td>1.364217</td>\n",
              "      <td>-1.296612</td>\n",
              "      <td>-0.384658</td>\n",
              "      <td>-0.553006</td>\n",
              "      <td>3.030874</td>\n",
              "      <td>-1.303849</td>\n",
              "      <td>0.501984036</td>\n",
              "      <td>good</td>\n",
              "    </tr>\n",
              "  </tbody>\n",
              "</table>\n",
              "</div>\n",
              "    <div class=\"colab-df-buttons\">\n",
              "\n",
              "  <div class=\"colab-df-container\">\n",
              "    <button class=\"colab-df-convert\" onclick=\"convertToInteractive('df-ade1f6a9-4435-463c-8d74-6553f2aef706')\"\n",
              "            title=\"Convert this dataframe to an interactive table.\"\n",
              "            style=\"display:none;\">\n",
              "\n",
              "  <svg xmlns=\"http://www.w3.org/2000/svg\" height=\"24px\" viewBox=\"0 -960 960 960\">\n",
              "    <path d=\"M120-120v-720h720v720H120Zm60-500h600v-160H180v160Zm220 220h160v-160H400v160Zm0 220h160v-160H400v160ZM180-400h160v-160H180v160Zm440 0h160v-160H620v160ZM180-180h160v-160H180v160Zm440 0h160v-160H620v160Z\"/>\n",
              "  </svg>\n",
              "    </button>\n",
              "\n",
              "  <style>\n",
              "    .colab-df-container {\n",
              "      display:flex;\n",
              "      gap: 12px;\n",
              "    }\n",
              "\n",
              "    .colab-df-convert {\n",
              "      background-color: #E8F0FE;\n",
              "      border: none;\n",
              "      border-radius: 50%;\n",
              "      cursor: pointer;\n",
              "      display: none;\n",
              "      fill: #1967D2;\n",
              "      height: 32px;\n",
              "      padding: 0 0 0 0;\n",
              "      width: 32px;\n",
              "    }\n",
              "\n",
              "    .colab-df-convert:hover {\n",
              "      background-color: #E2EBFA;\n",
              "      box-shadow: 0px 1px 2px rgba(60, 64, 67, 0.3), 0px 1px 3px 1px rgba(60, 64, 67, 0.15);\n",
              "      fill: #174EA6;\n",
              "    }\n",
              "\n",
              "    .colab-df-buttons div {\n",
              "      margin-bottom: 4px;\n",
              "    }\n",
              "\n",
              "    [theme=dark] .colab-df-convert {\n",
              "      background-color: #3B4455;\n",
              "      fill: #D2E3FC;\n",
              "    }\n",
              "\n",
              "    [theme=dark] .colab-df-convert:hover {\n",
              "      background-color: #434B5C;\n",
              "      box-shadow: 0px 1px 3px 1px rgba(0, 0, 0, 0.15);\n",
              "      filter: drop-shadow(0px 1px 2px rgba(0, 0, 0, 0.3));\n",
              "      fill: #FFFFFF;\n",
              "    }\n",
              "  </style>\n",
              "\n",
              "    <script>\n",
              "      const buttonEl =\n",
              "        document.querySelector('#df-ade1f6a9-4435-463c-8d74-6553f2aef706 button.colab-df-convert');\n",
              "      buttonEl.style.display =\n",
              "        google.colab.kernel.accessAllowed ? 'block' : 'none';\n",
              "\n",
              "      async function convertToInteractive(key) {\n",
              "        const element = document.querySelector('#df-ade1f6a9-4435-463c-8d74-6553f2aef706');\n",
              "        const dataTable =\n",
              "          await google.colab.kernel.invokeFunction('convertToInteractive',\n",
              "                                                    [key], {});\n",
              "        if (!dataTable) return;\n",
              "\n",
              "        const docLinkHtml = 'Like what you see? Visit the ' +\n",
              "          '<a target=\"_blank\" href=https://colab.research.google.com/notebooks/data_table.ipynb>data table notebook</a>'\n",
              "          + ' to learn more about interactive tables.';\n",
              "        element.innerHTML = '';\n",
              "        dataTable['output_type'] = 'display_data';\n",
              "        await google.colab.output.renderOutput(dataTable, element);\n",
              "        const docLink = document.createElement('div');\n",
              "        docLink.innerHTML = docLinkHtml;\n",
              "        element.appendChild(docLink);\n",
              "      }\n",
              "    </script>\n",
              "  </div>\n",
              "\n",
              "\n",
              "<div id=\"df-e485f674-fa77-4568-ba86-e613caf29ed4\">\n",
              "  <button class=\"colab-df-quickchart\" onclick=\"quickchart('df-e485f674-fa77-4568-ba86-e613caf29ed4')\"\n",
              "            title=\"Suggest charts\"\n",
              "            style=\"display:none;\">\n",
              "\n",
              "<svg xmlns=\"http://www.w3.org/2000/svg\" height=\"24px\"viewBox=\"0 0 24 24\"\n",
              "     width=\"24px\">\n",
              "    <g>\n",
              "        <path d=\"M19 3H5c-1.1 0-2 .9-2 2v14c0 1.1.9 2 2 2h14c1.1 0 2-.9 2-2V5c0-1.1-.9-2-2-2zM9 17H7v-7h2v7zm4 0h-2V7h2v10zm4 0h-2v-4h2v4z\"/>\n",
              "    </g>\n",
              "</svg>\n",
              "  </button>\n",
              "\n",
              "<style>\n",
              "  .colab-df-quickchart {\n",
              "      --bg-color: #E8F0FE;\n",
              "      --fill-color: #1967D2;\n",
              "      --hover-bg-color: #E2EBFA;\n",
              "      --hover-fill-color: #174EA6;\n",
              "      --disabled-fill-color: #AAA;\n",
              "      --disabled-bg-color: #DDD;\n",
              "  }\n",
              "\n",
              "  [theme=dark] .colab-df-quickchart {\n",
              "      --bg-color: #3B4455;\n",
              "      --fill-color: #D2E3FC;\n",
              "      --hover-bg-color: #434B5C;\n",
              "      --hover-fill-color: #FFFFFF;\n",
              "      --disabled-bg-color: #3B4455;\n",
              "      --disabled-fill-color: #666;\n",
              "  }\n",
              "\n",
              "  .colab-df-quickchart {\n",
              "    background-color: var(--bg-color);\n",
              "    border: none;\n",
              "    border-radius: 50%;\n",
              "    cursor: pointer;\n",
              "    display: none;\n",
              "    fill: var(--fill-color);\n",
              "    height: 32px;\n",
              "    padding: 0;\n",
              "    width: 32px;\n",
              "  }\n",
              "\n",
              "  .colab-df-quickchart:hover {\n",
              "    background-color: var(--hover-bg-color);\n",
              "    box-shadow: 0 1px 2px rgba(60, 64, 67, 0.3), 0 1px 3px 1px rgba(60, 64, 67, 0.15);\n",
              "    fill: var(--button-hover-fill-color);\n",
              "  }\n",
              "\n",
              "  .colab-df-quickchart-complete:disabled,\n",
              "  .colab-df-quickchart-complete:disabled:hover {\n",
              "    background-color: var(--disabled-bg-color);\n",
              "    fill: var(--disabled-fill-color);\n",
              "    box-shadow: none;\n",
              "  }\n",
              "\n",
              "  .colab-df-spinner {\n",
              "    border: 2px solid var(--fill-color);\n",
              "    border-color: transparent;\n",
              "    border-bottom-color: var(--fill-color);\n",
              "    animation:\n",
              "      spin 1s steps(1) infinite;\n",
              "  }\n",
              "\n",
              "  @keyframes spin {\n",
              "    0% {\n",
              "      border-color: transparent;\n",
              "      border-bottom-color: var(--fill-color);\n",
              "      border-left-color: var(--fill-color);\n",
              "    }\n",
              "    20% {\n",
              "      border-color: transparent;\n",
              "      border-left-color: var(--fill-color);\n",
              "      border-top-color: var(--fill-color);\n",
              "    }\n",
              "    30% {\n",
              "      border-color: transparent;\n",
              "      border-left-color: var(--fill-color);\n",
              "      border-top-color: var(--fill-color);\n",
              "      border-right-color: var(--fill-color);\n",
              "    }\n",
              "    40% {\n",
              "      border-color: transparent;\n",
              "      border-right-color: var(--fill-color);\n",
              "      border-top-color: var(--fill-color);\n",
              "    }\n",
              "    60% {\n",
              "      border-color: transparent;\n",
              "      border-right-color: var(--fill-color);\n",
              "    }\n",
              "    80% {\n",
              "      border-color: transparent;\n",
              "      border-right-color: var(--fill-color);\n",
              "      border-bottom-color: var(--fill-color);\n",
              "    }\n",
              "    90% {\n",
              "      border-color: transparent;\n",
              "      border-bottom-color: var(--fill-color);\n",
              "    }\n",
              "  }\n",
              "</style>\n",
              "\n",
              "  <script>\n",
              "    async function quickchart(key) {\n",
              "      const quickchartButtonEl =\n",
              "        document.querySelector('#' + key + ' button');\n",
              "      quickchartButtonEl.disabled = true;  // To prevent multiple clicks.\n",
              "      quickchartButtonEl.classList.add('colab-df-spinner');\n",
              "      try {\n",
              "        const charts = await google.colab.kernel.invokeFunction(\n",
              "            'suggestCharts', [key], {});\n",
              "      } catch (error) {\n",
              "        console.error('Error during call to suggestCharts:', error);\n",
              "      }\n",
              "      quickchartButtonEl.classList.remove('colab-df-spinner');\n",
              "      quickchartButtonEl.classList.add('colab-df-quickchart-complete');\n",
              "    }\n",
              "    (() => {\n",
              "      let quickchartButtonEl =\n",
              "        document.querySelector('#df-e485f674-fa77-4568-ba86-e613caf29ed4 button');\n",
              "      quickchartButtonEl.style.display =\n",
              "        google.colab.kernel.accessAllowed ? 'block' : 'none';\n",
              "    })();\n",
              "  </script>\n",
              "</div>\n",
              "\n",
              "    </div>\n",
              "  </div>\n"
            ],
            "application/vnd.google.colaboratory.intrinsic+json": {
              "type": "dataframe",
              "variable_name": "df",
              "summary": "{\n  \"name\": \"df\",\n  \"rows\": 4001,\n  \"fields\": [\n    {\n      \"column\": \"A_id\",\n      \"properties\": {\n        \"dtype\": \"number\",\n        \"std\": 1154.8448669265786,\n        \"min\": 0.0,\n        \"max\": 3999.0,\n        \"num_unique_values\": 4000,\n        \"samples\": [\n          555.0,\n          3491.0,\n          527.0\n        ],\n        \"semantic_type\": \"\",\n        \"description\": \"\"\n      }\n    },\n    {\n      \"column\": \"Size\",\n      \"properties\": {\n        \"dtype\": \"number\",\n        \"std\": 1.928058688854979,\n        \"min\": -7.151703059,\n        \"max\": 6.406366899,\n        \"num_unique_values\": 4000,\n        \"samples\": [\n          3.099410637,\n          1.439787602,\n          1.20678634\n        ],\n        \"semantic_type\": \"\",\n        \"description\": \"\"\n      }\n    },\n    {\n      \"column\": \"Weight\",\n      \"properties\": {\n        \"dtype\": \"number\",\n        \"std\": 1.6025072141517547,\n        \"min\": -7.149847675,\n        \"max\": 5.79071359,\n        \"num_unique_values\": 4000,\n        \"samples\": [\n          -1.691560679,\n          -0.223976263,\n          -0.508979201\n        ],\n        \"semantic_type\": \"\",\n        \"description\": \"\"\n      }\n    },\n    {\n      \"column\": \"Sweetness\",\n      \"properties\": {\n        \"dtype\": \"number\",\n        \"std\": 1.943440658920452,\n        \"min\": -6.894485494,\n        \"max\": 6.374915513,\n        \"num_unique_values\": 4000,\n        \"samples\": [\n          -3.679364,\n          -0.061448613,\n          1.736206944\n        ],\n        \"semantic_type\": \"\",\n        \"description\": \"\"\n      }\n    },\n    {\n      \"column\": \"Crunchiness\",\n      \"properties\": {\n        \"dtype\": \"number\",\n        \"std\": 1.402757204211963,\n        \"min\": -6.055057805,\n        \"max\": 7.619851801,\n        \"num_unique_values\": 4000,\n        \"samples\": [\n          0.963605627,\n          1.412704629,\n          1.301010753\n        ],\n        \"semantic_type\": \"\",\n        \"description\": \"\"\n      }\n    },\n    {\n      \"column\": \"Juiciness\",\n      \"properties\": {\n        \"dtype\": \"number\",\n        \"std\": 1.9302856730942946,\n        \"min\": -5.961897048,\n        \"max\": 7.364402864,\n        \"num_unique_values\": 4000,\n        \"samples\": [\n          0.538102393,\n          0.885640988,\n          -0.556148589\n        ],\n        \"semantic_type\": \"\",\n        \"description\": \"\"\n      }\n    },\n    {\n      \"column\": \"Ripeness\",\n      \"properties\": {\n        \"dtype\": \"number\",\n        \"std\": 1.8744267757033417,\n        \"min\": -5.864598918,\n        \"max\": 7.237836684,\n        \"num_unique_values\": 4000,\n        \"samples\": [\n          1.660099378,\n          -2.191810607,\n          -1.332051678\n        ],\n        \"semantic_type\": \"\",\n        \"description\": \"\"\n      }\n    },\n    {\n      \"column\": \"Acidity\",\n      \"properties\": {\n        \"dtype\": \"string\",\n        \"num_unique_values\": 4001,\n        \"samples\": [\n          \"-0.544761148\",\n          \"0.766026809\",\n          \"1.009155619\"\n        ],\n        \"semantic_type\": \"\",\n        \"description\": \"\"\n      }\n    },\n    {\n      \"column\": \"Quality\",\n      \"properties\": {\n        \"dtype\": \"category\",\n        \"num_unique_values\": 2,\n        \"samples\": [\n          \"bad\",\n          \"good\"\n        ],\n        \"semantic_type\": \"\",\n        \"description\": \"\"\n      }\n    }\n  ]\n}"
            }
          },
          "metadata": {},
          "execution_count": 10
        }
      ],
      "source": [
        "#Dataframe: A_id=index, Size=tamanho, Weight=peso, Sweetness=doçura, Cruchiness=crocância, Juiciness=suculência,\n",
        "#Ripeness=maturação, Acidity=acidez, Quality=qualidade (good or bad).\n",
        "#Os dados já estão padronizados, o objetivo é saber se a maça é boa ou ruim usando Machine learning, no caso prever a coluna Quality\n",
        "df.head(5)"
      ]
    },
    {
      "cell_type": "markdown",
      "id": "4154ddc1",
      "metadata": {
        "papermill": {
          "duration": 0.008321,
          "end_time": "2024-03-13T16:43:02.661883",
          "exception": false,
          "start_time": "2024-03-13T16:43:02.653562",
          "status": "completed"
        },
        "tags": [],
        "id": "4154ddc1"
      },
      "source": [
        "# **ANALISE E LIMPEZA DOS DADOS**"
      ]
    },
    {
      "cell_type": "code",
      "execution_count": null,
      "id": "7a091188",
      "metadata": {
        "execution": {
          "iopub.execute_input": "2024-03-13T16:43:02.680884Z",
          "iopub.status.busy": "2024-03-13T16:43:02.680491Z",
          "iopub.status.idle": "2024-03-13T16:43:02.714023Z",
          "shell.execute_reply": "2024-03-13T16:43:02.712595Z"
        },
        "papermill": {
          "duration": 0.046106,
          "end_time": "2024-03-13T16:43:02.716545",
          "exception": false,
          "start_time": "2024-03-13T16:43:02.670439",
          "status": "completed"
        },
        "tags": [],
        "colab": {
          "base_uri": "https://localhost:8080/"
        },
        "id": "7a091188",
        "outputId": "aaec2987-6bdc-4695-acfa-0a34520cadaf"
      },
      "outputs": [
        {
          "output_type": "stream",
          "name": "stdout",
          "text": [
            "<class 'pandas.core.frame.DataFrame'>\n",
            "RangeIndex: 4001 entries, 0 to 4000\n",
            "Data columns (total 9 columns):\n",
            " #   Column       Non-Null Count  Dtype  \n",
            "---  ------       --------------  -----  \n",
            " 0   A_id         4000 non-null   float64\n",
            " 1   Size         4000 non-null   float64\n",
            " 2   Weight       4000 non-null   float64\n",
            " 3   Sweetness    4000 non-null   float64\n",
            " 4   Crunchiness  4000 non-null   float64\n",
            " 5   Juiciness    4000 non-null   float64\n",
            " 6   Ripeness     4000 non-null   float64\n",
            " 7   Acidity      4001 non-null   object \n",
            " 8   Quality      4000 non-null   object \n",
            "dtypes: float64(7), object(2)\n",
            "memory usage: 281.4+ KB\n"
          ]
        }
      ],
      "source": [
        "#Alguns valores float e object, inesperado Acidity ser object então vou formata-lo para float\n",
        "df.info()"
      ]
    },
    {
      "cell_type": "code",
      "execution_count": null,
      "id": "48700451",
      "metadata": {
        "execution": {
          "iopub.execute_input": "2024-03-13T16:43:02.735814Z",
          "iopub.status.busy": "2024-03-13T16:43:02.735361Z",
          "iopub.status.idle": "2024-03-13T16:43:02.745628Z",
          "shell.execute_reply": "2024-03-13T16:43:02.744334Z"
        },
        "papermill": {
          "duration": 0.023055,
          "end_time": "2024-03-13T16:43:02.748342",
          "exception": false,
          "start_time": "2024-03-13T16:43:02.725287",
          "status": "completed"
        },
        "tags": [],
        "id": "48700451"
      },
      "outputs": [],
      "source": [
        "#Transformei qualquer string dentro de Actidity que não seja numeros em NaN\n",
        "df['Acidity'] = pd.to_numeric(df['Acidity'], errors='coerce')"
      ]
    },
    {
      "cell_type": "code",
      "execution_count": null,
      "id": "311f977f",
      "metadata": {
        "execution": {
          "iopub.execute_input": "2024-03-13T16:43:02.768944Z",
          "iopub.status.busy": "2024-03-13T16:43:02.767794Z",
          "iopub.status.idle": "2024-03-13T16:43:02.780585Z",
          "shell.execute_reply": "2024-03-13T16:43:02.779464Z"
        },
        "papermill": {
          "duration": 0.026175,
          "end_time": "2024-03-13T16:43:02.783304",
          "exception": false,
          "start_time": "2024-03-13T16:43:02.757129",
          "status": "completed"
        },
        "tags": [],
        "colab": {
          "base_uri": "https://localhost:8080/"
        },
        "id": "311f977f",
        "outputId": "1f738900-68d2-492a-dcf8-462318df7f4e"
      },
      "outputs": [
        {
          "output_type": "stream",
          "name": "stdout",
          "text": [
            "<class 'pandas.core.frame.DataFrame'>\n",
            "RangeIndex: 4001 entries, 0 to 4000\n",
            "Data columns (total 9 columns):\n",
            " #   Column       Non-Null Count  Dtype  \n",
            "---  ------       --------------  -----  \n",
            " 0   A_id         4000 non-null   float64\n",
            " 1   Size         4000 non-null   float64\n",
            " 2   Weight       4000 non-null   float64\n",
            " 3   Sweetness    4000 non-null   float64\n",
            " 4   Crunchiness  4000 non-null   float64\n",
            " 5   Juiciness    4000 non-null   float64\n",
            " 6   Ripeness     4000 non-null   float64\n",
            " 7   Acidity      4000 non-null   float64\n",
            " 8   Quality      4000 non-null   object \n",
            "dtypes: float64(8), object(1)\n",
            "memory usage: 281.4+ KB\n"
          ]
        }
      ],
      "source": [
        "#Agora todos os atributos de entrada estão com float\n",
        "df.info()"
      ]
    },
    {
      "cell_type": "code",
      "execution_count": null,
      "id": "1b6c36b8",
      "metadata": {
        "execution": {
          "iopub.execute_input": "2024-03-13T16:43:02.802882Z",
          "iopub.status.busy": "2024-03-13T16:43:02.802458Z",
          "iopub.status.idle": "2024-03-13T16:43:02.816937Z",
          "shell.execute_reply": "2024-03-13T16:43:02.815506Z"
        },
        "papermill": {
          "duration": 0.027217,
          "end_time": "2024-03-13T16:43:02.819627",
          "exception": false,
          "start_time": "2024-03-13T16:43:02.792410",
          "status": "completed"
        },
        "tags": [],
        "id": "1b6c36b8",
        "outputId": "238f4551-79d2-4123-a9d1-c6881ebdc51e"
      },
      "outputs": [
        {
          "data": {
            "text/plain": [
              "A_id           4000\n",
              "Size           4000\n",
              "Weight         4000\n",
              "Sweetness      4000\n",
              "Crunchiness    4000\n",
              "Juiciness      4000\n",
              "Ripeness       4000\n",
              "Acidity        4000\n",
              "Quality           2\n",
              "dtype: int64"
            ]
          },
          "execution_count": 6,
          "metadata": {},
          "output_type": "execute_result"
        }
      ],
      "source": [
        "#sem valores duplicados\n",
        "df.nunique()"
      ]
    },
    {
      "cell_type": "code",
      "execution_count": null,
      "id": "cf05a7ec",
      "metadata": {
        "execution": {
          "iopub.execute_input": "2024-03-13T16:43:02.840776Z",
          "iopub.status.busy": "2024-03-13T16:43:02.840360Z",
          "iopub.status.idle": "2024-03-13T16:43:02.850006Z",
          "shell.execute_reply": "2024-03-13T16:43:02.848879Z"
        },
        "papermill": {
          "duration": 0.023756,
          "end_time": "2024-03-13T16:43:02.852583",
          "exception": false,
          "start_time": "2024-03-13T16:43:02.828827",
          "status": "completed"
        },
        "tags": [],
        "id": "cf05a7ec",
        "outputId": "bacc0dde-1a90-4710-e133-c97ef0a91dff"
      },
      "outputs": [
        {
          "data": {
            "text/plain": [
              "A_id           1\n",
              "Size           1\n",
              "Weight         1\n",
              "Sweetness      1\n",
              "Crunchiness    1\n",
              "Juiciness      1\n",
              "Ripeness       1\n",
              "Acidity        1\n",
              "Quality        1\n",
              "dtype: int64"
            ]
          },
          "execution_count": 7,
          "metadata": {},
          "output_type": "execute_result"
        }
      ],
      "source": [
        "#verificação de valores nulos\n",
        "df.isnull().sum()"
      ]
    },
    {
      "cell_type": "code",
      "execution_count": null,
      "id": "295d6463",
      "metadata": {
        "execution": {
          "iopub.execute_input": "2024-03-13T16:43:02.872559Z",
          "iopub.status.busy": "2024-03-13T16:43:02.872137Z",
          "iopub.status.idle": "2024-03-13T16:43:02.883962Z",
          "shell.execute_reply": "2024-03-13T16:43:02.883024Z"
        },
        "papermill": {
          "duration": 0.024891,
          "end_time": "2024-03-13T16:43:02.886568",
          "exception": false,
          "start_time": "2024-03-13T16:43:02.861677",
          "status": "completed"
        },
        "tags": [],
        "id": "295d6463"
      },
      "outputs": [],
      "source": [
        "#Eliminando linhas de valores nulos (já que são poucos)\n",
        "df = df.dropna()"
      ]
    },
    {
      "cell_type": "code",
      "execution_count": null,
      "id": "b1f10d51",
      "metadata": {
        "execution": {
          "iopub.execute_input": "2024-03-13T16:43:02.907256Z",
          "iopub.status.busy": "2024-03-13T16:43:02.906820Z",
          "iopub.status.idle": "2024-03-13T16:43:02.917445Z",
          "shell.execute_reply": "2024-03-13T16:43:02.916297Z"
        },
        "papermill": {
          "duration": 0.023457,
          "end_time": "2024-03-13T16:43:02.919807",
          "exception": false,
          "start_time": "2024-03-13T16:43:02.896350",
          "status": "completed"
        },
        "tags": [],
        "id": "b1f10d51",
        "outputId": "2f1653ab-4133-4312-c534-d86e01f3639c"
      },
      "outputs": [
        {
          "data": {
            "text/plain": [
              "A_id           0\n",
              "Size           0\n",
              "Weight         0\n",
              "Sweetness      0\n",
              "Crunchiness    0\n",
              "Juiciness      0\n",
              "Ripeness       0\n",
              "Acidity        0\n",
              "Quality        0\n",
              "dtype: int64"
            ]
          },
          "execution_count": 9,
          "metadata": {},
          "output_type": "execute_result"
        }
      ],
      "source": [
        "#Novo dataframe sem valores nulos\n",
        "df.isnull().sum()"
      ]
    },
    {
      "cell_type": "code",
      "execution_count": null,
      "id": "9641c32c",
      "metadata": {
        "execution": {
          "iopub.execute_input": "2024-03-13T16:43:02.943503Z",
          "iopub.status.busy": "2024-03-13T16:43:02.943068Z",
          "iopub.status.idle": "2024-03-13T16:43:02.950296Z",
          "shell.execute_reply": "2024-03-13T16:43:02.949038Z"
        },
        "papermill": {
          "duration": 0.023592,
          "end_time": "2024-03-13T16:43:02.953002",
          "exception": false,
          "start_time": "2024-03-13T16:43:02.929410",
          "status": "completed"
        },
        "tags": [],
        "id": "9641c32c"
      },
      "outputs": [],
      "source": [
        "#A coluna id não terá peso no modelo de IA já que é apenas o indice do dataframe então removi ela\n",
        "df = df.drop(\"A_id\", axis=1)"
      ]
    },
    {
      "cell_type": "code",
      "execution_count": null,
      "id": "91e55b56",
      "metadata": {
        "execution": {
          "iopub.execute_input": "2024-03-13T16:43:02.974496Z",
          "iopub.status.busy": "2024-03-13T16:43:02.973767Z",
          "iopub.status.idle": "2024-03-13T16:43:02.991211Z",
          "shell.execute_reply": "2024-03-13T16:43:02.989991Z"
        },
        "papermill": {
          "duration": 0.030957,
          "end_time": "2024-03-13T16:43:02.993885",
          "exception": false,
          "start_time": "2024-03-13T16:43:02.962928",
          "status": "completed"
        },
        "tags": [],
        "id": "91e55b56",
        "outputId": "b5995a20-129a-4e82-d1c1-beb990f03be2"
      },
      "outputs": [
        {
          "data": {
            "text/html": [
              "<div>\n",
              "<style scoped>\n",
              "    .dataframe tbody tr th:only-of-type {\n",
              "        vertical-align: middle;\n",
              "    }\n",
              "\n",
              "    .dataframe tbody tr th {\n",
              "        vertical-align: top;\n",
              "    }\n",
              "\n",
              "    .dataframe thead th {\n",
              "        text-align: right;\n",
              "    }\n",
              "</style>\n",
              "<table border=\"1\" class=\"dataframe\">\n",
              "  <thead>\n",
              "    <tr style=\"text-align: right;\">\n",
              "      <th></th>\n",
              "      <th>Size</th>\n",
              "      <th>Weight</th>\n",
              "      <th>Sweetness</th>\n",
              "      <th>Crunchiness</th>\n",
              "      <th>Juiciness</th>\n",
              "      <th>Ripeness</th>\n",
              "      <th>Acidity</th>\n",
              "      <th>Quality</th>\n",
              "    </tr>\n",
              "  </thead>\n",
              "  <tbody>\n",
              "    <tr>\n",
              "      <th>0</th>\n",
              "      <td>-3.970049</td>\n",
              "      <td>-2.512336</td>\n",
              "      <td>5.346330</td>\n",
              "      <td>-1.012009</td>\n",
              "      <td>1.844900</td>\n",
              "      <td>0.329840</td>\n",
              "      <td>-0.491590</td>\n",
              "      <td>good</td>\n",
              "    </tr>\n",
              "    <tr>\n",
              "      <th>1</th>\n",
              "      <td>-1.195217</td>\n",
              "      <td>-2.839257</td>\n",
              "      <td>3.664059</td>\n",
              "      <td>1.588232</td>\n",
              "      <td>0.853286</td>\n",
              "      <td>0.867530</td>\n",
              "      <td>-0.722809</td>\n",
              "      <td>good</td>\n",
              "    </tr>\n",
              "    <tr>\n",
              "      <th>2</th>\n",
              "      <td>-0.292024</td>\n",
              "      <td>-1.351282</td>\n",
              "      <td>-1.738429</td>\n",
              "      <td>-0.342616</td>\n",
              "      <td>2.838636</td>\n",
              "      <td>-0.038033</td>\n",
              "      <td>2.621636</td>\n",
              "      <td>bad</td>\n",
              "    </tr>\n",
              "    <tr>\n",
              "      <th>3</th>\n",
              "      <td>-0.657196</td>\n",
              "      <td>-2.271627</td>\n",
              "      <td>1.324874</td>\n",
              "      <td>-0.097875</td>\n",
              "      <td>3.637970</td>\n",
              "      <td>-3.413761</td>\n",
              "      <td>0.790723</td>\n",
              "      <td>good</td>\n",
              "    </tr>\n",
              "    <tr>\n",
              "      <th>4</th>\n",
              "      <td>1.364217</td>\n",
              "      <td>-1.296612</td>\n",
              "      <td>-0.384658</td>\n",
              "      <td>-0.553006</td>\n",
              "      <td>3.030874</td>\n",
              "      <td>-1.303849</td>\n",
              "      <td>0.501984</td>\n",
              "      <td>good</td>\n",
              "    </tr>\n",
              "  </tbody>\n",
              "</table>\n",
              "</div>"
            ],
            "text/plain": [
              "       Size    Weight  Sweetness  Crunchiness  Juiciness  Ripeness   Acidity  \\\n",
              "0 -3.970049 -2.512336   5.346330    -1.012009   1.844900  0.329840 -0.491590   \n",
              "1 -1.195217 -2.839257   3.664059     1.588232   0.853286  0.867530 -0.722809   \n",
              "2 -0.292024 -1.351282  -1.738429    -0.342616   2.838636 -0.038033  2.621636   \n",
              "3 -0.657196 -2.271627   1.324874    -0.097875   3.637970 -3.413761  0.790723   \n",
              "4  1.364217 -1.296612  -0.384658    -0.553006   3.030874 -1.303849  0.501984   \n",
              "\n",
              "  Quality  \n",
              "0    good  \n",
              "1    good  \n",
              "2     bad  \n",
              "3    good  \n",
              "4    good  "
            ]
          },
          "execution_count": 11,
          "metadata": {},
          "output_type": "execute_result"
        }
      ],
      "source": [
        "#Novo dataframe sem a coluna A_id\n",
        "df.head(5)"
      ]
    },
    {
      "cell_type": "code",
      "execution_count": null,
      "id": "b3823121",
      "metadata": {
        "execution": {
          "iopub.execute_input": "2024-03-13T16:43:03.016415Z",
          "iopub.status.busy": "2024-03-13T16:43:03.015734Z",
          "iopub.status.idle": "2024-03-13T16:43:03.022877Z",
          "shell.execute_reply": "2024-03-13T16:43:03.021672Z"
        },
        "papermill": {
          "duration": 0.021457,
          "end_time": "2024-03-13T16:43:03.025641",
          "exception": false,
          "start_time": "2024-03-13T16:43:03.004184",
          "status": "completed"
        },
        "tags": [],
        "id": "b3823121"
      },
      "outputs": [],
      "source": [
        "#Quality precisa ser transformado ou numeros para nosso modelo conseguir aprender, nesse caso utilizei a função map()\n",
        "df['Quality'] = df['Quality'].map({'bad':0, 'good':1})"
      ]
    },
    {
      "cell_type": "code",
      "execution_count": null,
      "id": "2eff0f7e",
      "metadata": {
        "execution": {
          "iopub.execute_input": "2024-03-13T16:43:03.046825Z",
          "iopub.status.busy": "2024-03-13T16:43:03.046418Z",
          "iopub.status.idle": "2024-03-13T16:43:03.063157Z",
          "shell.execute_reply": "2024-03-13T16:43:03.061954Z"
        },
        "papermill": {
          "duration": 0.030579,
          "end_time": "2024-03-13T16:43:03.065849",
          "exception": false,
          "start_time": "2024-03-13T16:43:03.035270",
          "status": "completed"
        },
        "tags": [],
        "id": "2eff0f7e",
        "outputId": "7b09eb1b-4f6d-488b-a625-9c71364347f7"
      },
      "outputs": [
        {
          "data": {
            "text/html": [
              "<div>\n",
              "<style scoped>\n",
              "    .dataframe tbody tr th:only-of-type {\n",
              "        vertical-align: middle;\n",
              "    }\n",
              "\n",
              "    .dataframe tbody tr th {\n",
              "        vertical-align: top;\n",
              "    }\n",
              "\n",
              "    .dataframe thead th {\n",
              "        text-align: right;\n",
              "    }\n",
              "</style>\n",
              "<table border=\"1\" class=\"dataframe\">\n",
              "  <thead>\n",
              "    <tr style=\"text-align: right;\">\n",
              "      <th></th>\n",
              "      <th>Size</th>\n",
              "      <th>Weight</th>\n",
              "      <th>Sweetness</th>\n",
              "      <th>Crunchiness</th>\n",
              "      <th>Juiciness</th>\n",
              "      <th>Ripeness</th>\n",
              "      <th>Acidity</th>\n",
              "      <th>Quality</th>\n",
              "    </tr>\n",
              "  </thead>\n",
              "  <tbody>\n",
              "    <tr>\n",
              "      <th>0</th>\n",
              "      <td>-3.970049</td>\n",
              "      <td>-2.512336</td>\n",
              "      <td>5.346330</td>\n",
              "      <td>-1.012009</td>\n",
              "      <td>1.844900</td>\n",
              "      <td>0.329840</td>\n",
              "      <td>-0.491590</td>\n",
              "      <td>1</td>\n",
              "    </tr>\n",
              "    <tr>\n",
              "      <th>1</th>\n",
              "      <td>-1.195217</td>\n",
              "      <td>-2.839257</td>\n",
              "      <td>3.664059</td>\n",
              "      <td>1.588232</td>\n",
              "      <td>0.853286</td>\n",
              "      <td>0.867530</td>\n",
              "      <td>-0.722809</td>\n",
              "      <td>1</td>\n",
              "    </tr>\n",
              "    <tr>\n",
              "      <th>2</th>\n",
              "      <td>-0.292024</td>\n",
              "      <td>-1.351282</td>\n",
              "      <td>-1.738429</td>\n",
              "      <td>-0.342616</td>\n",
              "      <td>2.838636</td>\n",
              "      <td>-0.038033</td>\n",
              "      <td>2.621636</td>\n",
              "      <td>0</td>\n",
              "    </tr>\n",
              "    <tr>\n",
              "      <th>3</th>\n",
              "      <td>-0.657196</td>\n",
              "      <td>-2.271627</td>\n",
              "      <td>1.324874</td>\n",
              "      <td>-0.097875</td>\n",
              "      <td>3.637970</td>\n",
              "      <td>-3.413761</td>\n",
              "      <td>0.790723</td>\n",
              "      <td>1</td>\n",
              "    </tr>\n",
              "    <tr>\n",
              "      <th>4</th>\n",
              "      <td>1.364217</td>\n",
              "      <td>-1.296612</td>\n",
              "      <td>-0.384658</td>\n",
              "      <td>-0.553006</td>\n",
              "      <td>3.030874</td>\n",
              "      <td>-1.303849</td>\n",
              "      <td>0.501984</td>\n",
              "      <td>1</td>\n",
              "    </tr>\n",
              "  </tbody>\n",
              "</table>\n",
              "</div>"
            ],
            "text/plain": [
              "       Size    Weight  Sweetness  Crunchiness  Juiciness  Ripeness   Acidity  \\\n",
              "0 -3.970049 -2.512336   5.346330    -1.012009   1.844900  0.329840 -0.491590   \n",
              "1 -1.195217 -2.839257   3.664059     1.588232   0.853286  0.867530 -0.722809   \n",
              "2 -0.292024 -1.351282  -1.738429    -0.342616   2.838636 -0.038033  2.621636   \n",
              "3 -0.657196 -2.271627   1.324874    -0.097875   3.637970 -3.413761  0.790723   \n",
              "4  1.364217 -1.296612  -0.384658    -0.553006   3.030874 -1.303849  0.501984   \n",
              "\n",
              "   Quality  \n",
              "0        1  \n",
              "1        1  \n",
              "2        0  \n",
              "3        1  \n",
              "4        1  "
            ]
          },
          "execution_count": 13,
          "metadata": {},
          "output_type": "execute_result"
        }
      ],
      "source": [
        "#Quality mapeada com 0 (ruim) e 1 (boa)\n",
        "df.head(5)"
      ]
    },
    {
      "cell_type": "markdown",
      "id": "5442e04c",
      "metadata": {
        "papermill": {
          "duration": 0.010015,
          "end_time": "2024-03-13T16:43:03.085659",
          "exception": false,
          "start_time": "2024-03-13T16:43:03.075644",
          "status": "completed"
        },
        "tags": [],
        "id": "5442e04c"
      },
      "source": [
        "# **ANÁLISE EXPLORATORIA (EDA)**"
      ]
    },
    {
      "cell_type": "code",
      "execution_count": null,
      "id": "dd0e6e71",
      "metadata": {
        "execution": {
          "iopub.execute_input": "2024-03-13T16:43:03.108348Z",
          "iopub.status.busy": "2024-03-13T16:43:03.107639Z",
          "iopub.status.idle": "2024-03-13T16:43:04.766568Z",
          "shell.execute_reply": "2024-03-13T16:43:04.765270Z"
        },
        "papermill": {
          "duration": 1.674479,
          "end_time": "2024-03-13T16:43:04.769968",
          "exception": false,
          "start_time": "2024-03-13T16:43:03.095489",
          "status": "completed"
        },
        "tags": [],
        "id": "dd0e6e71"
      },
      "outputs": [],
      "source": [
        "#Bibliotecas de gráficos e análises de dados\n",
        "import matplotlib.pyplot as plt\n",
        "import seaborn as sns"
      ]
    },
    {
      "cell_type": "code",
      "execution_count": null,
      "id": "cf4e81fc",
      "metadata": {
        "execution": {
          "iopub.execute_input": "2024-03-13T16:43:04.792708Z",
          "iopub.status.busy": "2024-03-13T16:43:04.792279Z",
          "iopub.status.idle": "2024-03-13T16:43:04.804073Z",
          "shell.execute_reply": "2024-03-13T16:43:04.802906Z"
        },
        "papermill": {
          "duration": 0.026901,
          "end_time": "2024-03-13T16:43:04.807138",
          "exception": false,
          "start_time": "2024-03-13T16:43:04.780237",
          "status": "completed"
        },
        "tags": [],
        "id": "cf4e81fc",
        "outputId": "e19106a2-62ff-422c-ec17-5bf480756418"
      },
      "outputs": [
        {
          "data": {
            "text/plain": [
              "Quality\n",
              "1    2004\n",
              "0    1996\n",
              "Name: count, dtype: int64"
            ]
          },
          "execution_count": 15,
          "metadata": {},
          "output_type": "execute_result"
        }
      ],
      "source": [
        "#Target está bem balanceado\n",
        "df['Quality'].value_counts()"
      ]
    },
    {
      "cell_type": "code",
      "execution_count": null,
      "id": "695b5e61",
      "metadata": {
        "execution": {
          "iopub.execute_input": "2024-03-13T16:43:04.830397Z",
          "iopub.status.busy": "2024-03-13T16:43:04.829630Z",
          "iopub.status.idle": "2024-03-13T16:43:04.868762Z",
          "shell.execute_reply": "2024-03-13T16:43:04.867422Z"
        },
        "papermill": {
          "duration": 0.053636,
          "end_time": "2024-03-13T16:43:04.871584",
          "exception": false,
          "start_time": "2024-03-13T16:43:04.817948",
          "status": "completed"
        },
        "tags": [],
        "id": "695b5e61",
        "outputId": "3111c4d1-5e42-4f96-ba17-e10777bf9e05"
      },
      "outputs": [
        {
          "data": {
            "text/html": [
              "<div>\n",
              "<style scoped>\n",
              "    .dataframe tbody tr th:only-of-type {\n",
              "        vertical-align: middle;\n",
              "    }\n",
              "\n",
              "    .dataframe tbody tr th {\n",
              "        vertical-align: top;\n",
              "    }\n",
              "\n",
              "    .dataframe thead th {\n",
              "        text-align: right;\n",
              "    }\n",
              "</style>\n",
              "<table border=\"1\" class=\"dataframe\">\n",
              "  <thead>\n",
              "    <tr style=\"text-align: right;\">\n",
              "      <th></th>\n",
              "      <th>count</th>\n",
              "      <th>mean</th>\n",
              "      <th>std</th>\n",
              "      <th>min</th>\n",
              "      <th>25%</th>\n",
              "      <th>50%</th>\n",
              "      <th>75%</th>\n",
              "      <th>max</th>\n",
              "    </tr>\n",
              "  </thead>\n",
              "  <tbody>\n",
              "    <tr>\n",
              "      <th>Size</th>\n",
              "      <td>4000.0</td>\n",
              "      <td>-0.503015</td>\n",
              "      <td>1.928059</td>\n",
              "      <td>-7.151703</td>\n",
              "      <td>-1.816765</td>\n",
              "      <td>-0.513703</td>\n",
              "      <td>0.805526</td>\n",
              "      <td>6.406367</td>\n",
              "    </tr>\n",
              "    <tr>\n",
              "      <th>Weight</th>\n",
              "      <td>4000.0</td>\n",
              "      <td>-0.989547</td>\n",
              "      <td>1.602507</td>\n",
              "      <td>-7.149848</td>\n",
              "      <td>-2.011770</td>\n",
              "      <td>-0.984736</td>\n",
              "      <td>0.030976</td>\n",
              "      <td>5.790714</td>\n",
              "    </tr>\n",
              "    <tr>\n",
              "      <th>Sweetness</th>\n",
              "      <td>4000.0</td>\n",
              "      <td>-0.470479</td>\n",
              "      <td>1.943441</td>\n",
              "      <td>-6.894485</td>\n",
              "      <td>-1.738425</td>\n",
              "      <td>-0.504758</td>\n",
              "      <td>0.801922</td>\n",
              "      <td>6.374916</td>\n",
              "    </tr>\n",
              "    <tr>\n",
              "      <th>Crunchiness</th>\n",
              "      <td>4000.0</td>\n",
              "      <td>0.985478</td>\n",
              "      <td>1.402757</td>\n",
              "      <td>-6.055058</td>\n",
              "      <td>0.062764</td>\n",
              "      <td>0.998249</td>\n",
              "      <td>1.894234</td>\n",
              "      <td>7.619852</td>\n",
              "    </tr>\n",
              "    <tr>\n",
              "      <th>Juiciness</th>\n",
              "      <td>4000.0</td>\n",
              "      <td>0.512118</td>\n",
              "      <td>1.930286</td>\n",
              "      <td>-5.961897</td>\n",
              "      <td>-0.801286</td>\n",
              "      <td>0.534219</td>\n",
              "      <td>1.835976</td>\n",
              "      <td>7.364403</td>\n",
              "    </tr>\n",
              "    <tr>\n",
              "      <th>Ripeness</th>\n",
              "      <td>4000.0</td>\n",
              "      <td>0.498277</td>\n",
              "      <td>1.874427</td>\n",
              "      <td>-5.864599</td>\n",
              "      <td>-0.771677</td>\n",
              "      <td>0.503445</td>\n",
              "      <td>1.766212</td>\n",
              "      <td>7.237837</td>\n",
              "    </tr>\n",
              "    <tr>\n",
              "      <th>Acidity</th>\n",
              "      <td>4000.0</td>\n",
              "      <td>0.076877</td>\n",
              "      <td>2.110270</td>\n",
              "      <td>-7.010538</td>\n",
              "      <td>-1.377424</td>\n",
              "      <td>0.022609</td>\n",
              "      <td>1.510493</td>\n",
              "      <td>7.404736</td>\n",
              "    </tr>\n",
              "    <tr>\n",
              "      <th>Quality</th>\n",
              "      <td>4000.0</td>\n",
              "      <td>0.501000</td>\n",
              "      <td>0.500062</td>\n",
              "      <td>0.000000</td>\n",
              "      <td>0.000000</td>\n",
              "      <td>1.000000</td>\n",
              "      <td>1.000000</td>\n",
              "      <td>1.000000</td>\n",
              "    </tr>\n",
              "  </tbody>\n",
              "</table>\n",
              "</div>"
            ],
            "text/plain": [
              "              count      mean       std       min       25%       50%  \\\n",
              "Size         4000.0 -0.503015  1.928059 -7.151703 -1.816765 -0.513703   \n",
              "Weight       4000.0 -0.989547  1.602507 -7.149848 -2.011770 -0.984736   \n",
              "Sweetness    4000.0 -0.470479  1.943441 -6.894485 -1.738425 -0.504758   \n",
              "Crunchiness  4000.0  0.985478  1.402757 -6.055058  0.062764  0.998249   \n",
              "Juiciness    4000.0  0.512118  1.930286 -5.961897 -0.801286  0.534219   \n",
              "Ripeness     4000.0  0.498277  1.874427 -5.864599 -0.771677  0.503445   \n",
              "Acidity      4000.0  0.076877  2.110270 -7.010538 -1.377424  0.022609   \n",
              "Quality      4000.0  0.501000  0.500062  0.000000  0.000000  1.000000   \n",
              "\n",
              "                  75%       max  \n",
              "Size         0.805526  6.406367  \n",
              "Weight       0.030976  5.790714  \n",
              "Sweetness    0.801922  6.374916  \n",
              "Crunchiness  1.894234  7.619852  \n",
              "Juiciness    1.835976  7.364403  \n",
              "Ripeness     1.766212  7.237837  \n",
              "Acidity      1.510493  7.404736  \n",
              "Quality      1.000000  1.000000  "
            ]
          },
          "execution_count": 16,
          "metadata": {},
          "output_type": "execute_result"
        }
      ],
      "source": [
        "#Análise dos dados (Média, Desvio Padrão, Valor minimo, Valor máximo, etc...)\n",
        "df.describe().T"
      ]
    },
    {
      "cell_type": "code",
      "execution_count": null,
      "id": "a9de82aa",
      "metadata": {
        "execution": {
          "iopub.execute_input": "2024-03-13T16:43:04.894584Z",
          "iopub.status.busy": "2024-03-13T16:43:04.894182Z",
          "iopub.status.idle": "2024-03-13T16:43:07.590286Z",
          "shell.execute_reply": "2024-03-13T16:43:07.589073Z"
        },
        "papermill": {
          "duration": 2.710788,
          "end_time": "2024-03-13T16:43:07.592868",
          "exception": false,
          "start_time": "2024-03-13T16:43:04.882080",
          "status": "completed"
        },
        "tags": [],
        "id": "a9de82aa",
        "outputId": "c44a4326-9ba8-406e-c424-9063f3d7eb4b"
      },
      "outputs": [
        {
          "data": {
            "image/png": "[encoded data removed]",
            "text/plain": [
              "<Figure size 1000x200 with 2 Axes>"
            ]
          },
          "metadata": {},
          "output_type": "display_data"
        },
        {
          "data": {
            "image/png": "[encoded data removed]",
            "text/plain": [
              "<Figure size 1000x200 with 2 Axes>"
            ]
          },
          "metadata": {},
          "output_type": "display_data"
        },
        {
          "data": {
            "image/png": "[encoded data removed]",
            "text/plain": [
              "<Figure size 1000x200 with 2 Axes>"
            ]
          },
          "metadata": {},
          "output_type": "display_data"
        },
        {
          "data": {
            "image/png": "[encoded data removed]",
            "text/plain": [
              "<Figure size 1000x200 with 2 Axes>"
            ]
          },
          "metadata": {},
          "output_type": "display_data"
        },
        {
          "data": {
            "image/png": "[encoded data removed]",
            "text/plain": [
              "<Figure size 1000x200 with 2 Axes>"
            ]
          },
          "metadata": {},
          "output_type": "display_data"
        },
        {
          "data": {
            "image/png": "[encoded data removed]",
            "text/plain": [
              "<Figure size 1000x200 with 2 Axes>"
            ]
          },
          "metadata": {},
          "output_type": "display_data"
        },
        {
          "data": {
            "image/png": "[encoded data removed]",
            "text/plain": [
              "<Figure size 1000x200 with 2 Axes>"
            ]
          },
          "metadata": {},
          "output_type": "display_data"
        }
      ],
      "source": [
        "#verificação de outliers\n",
        "for i in range(7):\n",
        "    plt.figure(figsize=(10,2))\n",
        "    plt.subplot(1,2,1)\n",
        "    df.iloc[:, i].hist(grid=False)\n",
        "    plt.subplot(1,2,2)\n",
        "    sns.boxplot(x=df.iloc[:, i])\n",
        "    plt.show()"
      ]
    },
    {
      "cell_type": "code",
      "execution_count": null,
      "id": "cc866b3b",
      "metadata": {
        "execution": {
          "iopub.execute_input": "2024-03-13T16:43:07.620663Z",
          "iopub.status.busy": "2024-03-13T16:43:07.620232Z",
          "iopub.status.idle": "2024-03-13T16:43:08.163889Z",
          "shell.execute_reply": "2024-03-13T16:43:08.162683Z"
        },
        "papermill": {
          "duration": 0.561748,
          "end_time": "2024-03-13T16:43:08.167204",
          "exception": false,
          "start_time": "2024-03-13T16:43:07.605456",
          "status": "completed"
        },
        "tags": [],
        "id": "cc866b3b",
        "outputId": "936ba2c0-2147-4e78-89db-c4cd083621e1"
      },
      "outputs": [
        {
          "data": {
            "image/png": "[encoded data removed]",
            "text/plain": [
              "<Figure size 800x500 with 2 Axes>"
            ]
          },
          "metadata": {},
          "output_type": "display_data"
        }
      ],
      "source": [
        "#gráfico de correlação\n",
        "plt.figure(figsize=(8,5))\n",
        "sns.heatmap(df.corr(), annot=True)\n",
        "plt.show()"
      ]
    },
    {
      "cell_type": "code",
      "execution_count": null,
      "id": "766c1ecf",
      "metadata": {
        "execution": {
          "iopub.execute_input": "2024-03-13T16:43:08.198773Z",
          "iopub.status.busy": "2024-03-13T16:43:08.197502Z",
          "iopub.status.idle": "2024-03-13T16:43:14.004929Z",
          "shell.execute_reply": "2024-03-13T16:43:14.003352Z"
        },
        "papermill": {
          "duration": 5.826111,
          "end_time": "2024-03-13T16:43:14.007814",
          "exception": false,
          "start_time": "2024-03-13T16:43:08.181703",
          "status": "completed"
        },
        "tags": [],
        "id": "766c1ecf",
        "outputId": "66e55170-2da0-4b1f-a509-8c70bf645e06"
      },
      "outputs": [
        {
          "name": "stdout",
          "output_type": "stream",
          "text": [
            "Random Forest Acurácia Média: 88.9%\n",
            "SVC Acurácia Média: 91.4%\n",
            "KNN Acurácia Média: 89.8%\n",
            "Decision Tree Acurácia Média: 81.3%\n"
          ]
        }
      ],
      "source": [
        "#Bibliotecas para treinamento, divisão e accurácia\n",
        "import numpy as np\n",
        "from sklearn.ensemble import RandomForestClassifier\n",
        "from sklearn.svm import SVC\n",
        "from sklearn.neighbors import KNeighborsClassifier\n",
        "from sklearn.tree import DecisionTreeClassifier\n",
        "from sklearn.model_selection import cross_val_predict\n",
        "from sklearn.metrics import accuracy_score\n",
        "from sklearn.metrics import confusion_matrix\n",
        "\n",
        "#Atribui X como valores de entrada e y o valor de saída\n",
        "X = df.drop('Quality', axis=1)\n",
        "y = df['Quality']\n",
        "\n",
        "#Instanciar os modelos\n",
        "rfc = RandomForestClassifier(random_state=42, min_samples_split=4, n_jobs=-1)\n",
        "svc = SVC(random_state=42, gamma='auto')\n",
        "knn = KNeighborsClassifier(n_neighbors=9, weights='distance', n_jobs=-1)\n",
        "dt = DecisionTreeClassifier(random_state=42, max_depth=13)\n",
        "\n",
        "#Treinamento e validação cruzada usando k-fold\n",
        "rfc_predict = cross_val_predict(rfc, X, y, cv=5)\n",
        "svc_predict = cross_val_predict(svc, X, y, cv=5)\n",
        "knn_predict = cross_val_predict(knn, X, y, cv=5)\n",
        "dt_predict = cross_val_predict(dt, X, y, cv=5)\n",
        "\n",
        "#Acurácia dos modelos\n",
        "print(\"Random Forest Acurácia Média: {:.1f}%\".format((accuracy_score(y, rfc_predict)) * 100))\n",
        "print(\"SVC Acurácia Média: {:.1f}%\".format((accuracy_score(y, svc_predict)) * 100))\n",
        "print(\"KNN Acurácia Média: {:.1f}%\".format((accuracy_score(y, knn_predict)) * 100))\n",
        "print(\"Decision Tree Acurácia Média: {:.1f}%\".format((accuracy_score(y, dt_predict)) * 100))"
      ]
    },
    {
      "cell_type": "code",
      "execution_count": null,
      "id": "f1659d6a",
      "metadata": {
        "execution": {
          "iopub.execute_input": "2024-03-13T16:43:14.038508Z",
          "iopub.status.busy": "2024-03-13T16:43:14.038040Z",
          "iopub.status.idle": "2024-03-13T16:43:15.669806Z",
          "shell.execute_reply": "2024-03-13T16:43:15.668384Z"
        },
        "papermill": {
          "duration": 1.650622,
          "end_time": "2024-03-13T16:43:15.673076",
          "exception": false,
          "start_time": "2024-03-13T16:43:14.022454",
          "status": "completed"
        },
        "tags": [],
        "id": "f1659d6a",
        "outputId": "60117149-9b5e-40ab-b64b-35aeb73b7ac4"
      },
      "outputs": [
        {
          "data": {
            "image/png": "[encoded data removed]",
            "text/plain": [
              "<Figure size 1000x800 with 8 Axes>"
            ]
          },
          "metadata": {},
          "output_type": "display_data"
        }
      ],
      "source": [
        "#Matriz de Confusão, Branco são os erros, e os coloridos são acertos\n",
        "#O eixo X é a previsão e o eixo Y é o rótulo verdadeiro\n",
        "cmRFC = confusion_matrix(y, rfc_predict)\n",
        "cmSVC = confusion_matrix(y, svc_predict)\n",
        "cmKNN = confusion_matrix(y, knn_predict)\n",
        "cmDT = confusion_matrix(y, dt_predict)\n",
        "\n",
        "fig, axes = plt.subplots(2, 2, figsize=(10, 8))\n",
        "\n",
        "sns.heatmap(cmRFC, annot=True, cmap='Greens', fmt='g', ax=axes[0, 0])\n",
        "axes[0, 0].set_title('Matriz de Confusão - Random Forest')\n",
        "\n",
        "sns.heatmap(cmSVC, annot=True, cmap='Blues', fmt='g', ax=axes[0, 1])\n",
        "axes[0, 1].set_title('Matriz de Confusão - SVC')\n",
        "\n",
        "sns.heatmap(cmKNN, annot=True, cmap='Oranges', fmt='g', ax=axes[1, 0])\n",
        "axes[1, 0].set_title('Matriz de Confusão - KNN')\n",
        "\n",
        "sns.heatmap(cmDT, annot=True, cmap='Purples', fmt='g', ax=axes[1, 1])\n",
        "axes[1, 1].set_title('Matriz de Confusão - Decision Tree')\n",
        "\n",
        "plt.tight_layout()\n",
        "\n",
        "plt.show()"
      ]
    },
    {
      "cell_type": "code",
      "execution_count": null,
      "id": "ac78d382",
      "metadata": {
        "execution": {
          "iopub.execute_input": "2024-03-13T16:43:15.706456Z",
          "iopub.status.busy": "2024-03-13T16:43:15.705990Z",
          "iopub.status.idle": "2024-03-13T16:43:15.716802Z",
          "shell.execute_reply": "2024-03-13T16:43:15.715280Z"
        },
        "papermill": {
          "duration": 0.030924,
          "end_time": "2024-03-13T16:43:15.719470",
          "exception": false,
          "start_time": "2024-03-13T16:43:15.688546",
          "status": "completed"
        },
        "tags": [],
        "id": "ac78d382",
        "outputId": "ed9673ea-4516-4359-addd-7faed39e5878"
      },
      "outputs": [
        {
          "name": "stdout",
          "output_type": "stream",
          "text": [
            "Melhor modelo:\n",
            " SVC: 91.4%\n",
            "\n",
            "Pior modelo:\n",
            " Decision Tree: 81.3%\n"
          ]
        }
      ],
      "source": [
        "print(\"Melhor modelo:\\n SVC: {:.1f}%\\n\".format((accuracy_score(y, svc_predict)) * 100))\n",
        "print(\"Pior modelo:\\n Decision Tree: {:.1f}%\".format((accuracy_score(y, dt_predict)) * 100))"
      ]
    }
  ],
  "metadata": {
    "kaggle": {
      "accelerator": "none",
      "dataSources": [
        {
          "datasetId": 4461310,
          "sourceId": 7652635,
          "sourceType": "datasetVersion"
        }
      ],
      "dockerImageVersionId": 30664,
      "isGpuEnabled": false,
      "isInternetEnabled": true,
      "language": "python",
      "sourceType": "notebook"
    },
    "kernelspec": {
      "display_name": "Python 3",
      "language": "python",
      "name": "python3"
    },
    "language_info": {
      "codemirror_mode": {
        "name": "ipython",
        "version": 3
      },
      "file_extension": ".py",
      "mimetype": "text/x-python",
      "name": "python",
      "nbconvert_exporter": "python",
      "pygments_lexer": "ipython3",
      "version": "3.10.13"
    },
    "papermill": {
      "default_parameters": {},
      "duration": 18.691976,
      "end_time": "2024-03-13T16:43:16.457524",
      "environment_variables": {},
      "exception": null,
      "input_path": "__notebook__.ipynb",
      "output_path": "__notebook__.ipynb",
      "parameters": {},
      "start_time": "2024-03-13T16:42:57.765548",
      "version": "2.5.0"
    },
    "colab": {
      "provenance": [],
      "include_colab_link": true
    }
  },
  "nbformat": 4,
  "nbformat_minor": 5
}